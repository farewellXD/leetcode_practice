{
 "cells": [
  {
   "cell_type": "code",
   "execution_count": 23,
   "metadata": {},
   "outputs": [
    {
     "name": "stdout",
     "output_type": "stream",
     "text": [
      "1\n",
      "0\n",
      "0\n"
     ]
    }
   ],
   "source": [
    "for d in str(100):\n",
    "    print( d)"
   ]
  },
  {
   "cell_type": "code",
   "execution_count": null,
   "metadata": {},
   "outputs": [],
   "source": [
    "class Solution(object):\n",
    "    def selfDividingNumbers(self, left, right):\n",
    "        def self_dividing(n):\n",
    "            for d in str(n):\n",
    "                if d == '0' or n % int(d) > 0:\n",
    "                    return False\n",
    "            return True\n",
    "\n",
    "        ans = []\n",
    "        for n in range(left, right + 1):\n",
    "            if self_dividing(n):\n",
    "                ans.append(n)\n",
    "        return ans #Equals filter(self_dividing, range(left, right+1))"
   ]
  }
 ],
 "metadata": {
  "kernelspec": {
   "display_name": "Python 3",
   "language": "python",
   "name": "python3"
  },
  "language_info": {
   "codemirror_mode": {
    "name": "ipython",
    "version": 3
   },
   "file_extension": ".py",
   "mimetype": "text/x-python",
   "name": "python",
   "nbconvert_exporter": "python",
   "pygments_lexer": "ipython3",
   "version": "3.6.3"
  }
 },
 "nbformat": 4,
 "nbformat_minor": 2
}
